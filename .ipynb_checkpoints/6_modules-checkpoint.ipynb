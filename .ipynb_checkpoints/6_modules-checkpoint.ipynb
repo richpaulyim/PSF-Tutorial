{
 "cells": [
  {
   "cell_type": "markdown",
   "metadata": {},
   "source": [
    "# MODULES AND MORE\n",
    "Programs can get pretty long. We want to be able to break them up and use them at different times and different places. Python supports this idea with modules which let us store function and variables in separate files which can be imported in a python session or a separate script file running python, where the script can be executed with the module, and its functions and variables."
   ]
  },
  {
   "cell_type": "code",
   "execution_count": 12,
   "metadata": {},
   "outputs": [
    {
     "name": "stdout",
     "output_type": "stream",
     "text": [
      "[0, 0, 0, 0, 0, 0, 0, 0, 0, 0, 0, 0, 0, 0, 0, 0, 0, 0, 0, 0] mymod\n",
      "\n",
      "[0, 0, 0, 0, 0, 0, 0, 0, 0, 0]\n"
     ]
    },
    {
     "data": {
      "text/plain": [
       "[0, 0, 0]"
      ]
     },
     "execution_count": 12,
     "metadata": {},
     "output_type": "execute_result"
    }
   ],
   "source": [
    "import mymod as yeet\n",
    "# __name__ represents the module's name\n",
    "print(yeet.billy_sequence(20), yeet.__name__, end='\\n\\n')\n",
    "\n",
    "# Alternatively, we can import as\n",
    "from mymod import billy_sequence # or we can expand all names with the wild card '*' But this is sloppy \n",
    "print(billy_sequence(10))\n",
    "\n",
    "# we can combine from and as altogether\n",
    "from mymod import billy_sequence as bs\n",
    "bs(3)"
   ]
  },
  {
   "cell_type": "markdown",
   "metadata": {},
   "source": [
    "### For efficiency reasons each module is imported only once per interpreter session\n",
    "We must restart the interpreter if we want to reload a module. You might want to do this if the module has been modified. The importlib module has a reload function that will reload a module that is available locally. "
   ]
  },
  {
   "cell_type": "code",
   "execution_count": 15,
   "metadata": {},
   "outputs": [
    {
     "data": {
      "text/plain": [
       "<module 'mymod' from '/home/richpaulyim/Programs/PSF-Tutorial/mymod.py'>"
      ]
     },
     "execution_count": 15,
     "metadata": {},
     "output_type": "execute_result"
    }
   ],
   "source": [
    "import mymod\n",
    "import importlib; importlib.reload(mymod)"
   ]
  },
  {
   "cell_type": "markdown",
   "metadata": {},
   "source": [
    "### Modules as scripts and not modules\n",
    "If we run a python module in an interepreter, the __name__ variable gets changed to \"__main__\", which means\n",
    "we can add an interactive, or separate code run within the module itself, a script within the module.\n",
    "\n",
    "Looking in the mymod.py file we have an if statement checking the __name__ global variable value. The code will print \"hello.\" However, if we just import the module in the interepreter, the __name__ variable with respect to the module will be the module name."
   ]
  },
  {
   "cell_type": "code",
   "execution_count": 23,
   "metadata": {},
   "outputs": [
    {
     "name": "stdout",
     "output_type": "stream",
     "text": [
      "This is being run in an interpreter\r\n"
     ]
    }
   ],
   "source": [
    "!python3 mymod.py"
   ]
  },
  {
   "cell_type": "markdown",
   "metadata": {},
   "source": [
    "### Module search path\n",
    "On symlink supported file systems, the directory containing a symlink to a related module in another directory will not search through the symlink's directory (this just makes sense). sys.path is a variable of the list of directories for a module. \n",
    "\n",
    "The `sys.path` variable is initialized from these locations:\n",
    "1. input script directory\n",
    "2. PYTHONPATH list of directories\n",
    "3. Installation dependent default\n",
    "### Compiled python\n",
    "Module loading is sped up with version storage in __pycache__"
   ]
  },
  {
   "cell_type": "markdown",
   "metadata": {},
   "source": [
    "# STANDARD MODULES"
   ]
  },
  {
   "cell_type": "code",
   "execution_count": null,
   "metadata": {},
   "outputs": [],
   "source": []
  },
  {
   "cell_type": "code",
   "execution_count": null,
   "metadata": {},
   "outputs": [],
   "source": []
  },
  {
   "cell_type": "code",
   "execution_count": null,
   "metadata": {},
   "outputs": [],
   "source": []
  },
  {
   "cell_type": "markdown",
   "metadata": {},
   "source": [
    "# THE DIR() FUNCTION\n"
   ]
  },
  {
   "cell_type": "code",
   "execution_count": null,
   "metadata": {},
   "outputs": [],
   "source": []
  },
  {
   "cell_type": "code",
   "execution_count": null,
   "metadata": {},
   "outputs": [],
   "source": []
  },
  {
   "cell_type": "markdown",
   "metadata": {},
   "source": [
    "# PACKAGES"
   ]
  },
  {
   "cell_type": "markdown",
   "metadata": {},
   "source": []
  }
 ],
 "metadata": {
  "kernelspec": {
   "display_name": "Python 3",
   "language": "python",
   "name": "python3"
  },
  "language_info": {
   "codemirror_mode": {
    "name": "ipython",
    "version": 3
   },
   "file_extension": ".py",
   "mimetype": "text/x-python",
   "name": "python",
   "nbconvert_exporter": "python",
   "pygments_lexer": "ipython3",
   "version": "3.8.2"
  }
 },
 "nbformat": 4,
 "nbformat_minor": 2
}
