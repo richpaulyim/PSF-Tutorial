{
 "cells": [
  {
   "cell_type": "markdown",
   "metadata": {},
   "source": [
    "# FANCIER OUTPUT FORMATTING\n",
    "We can use print() function to print, alternatively we can use write(). Not too important. print() is pretty powerful already. write() is a method of file object.\n",
    "\n",
    "We can use some more printing methods as follows with fancy formatting."
   ]
  },
  {
   "cell_type": "code",
   "execution_count": 1,
   "metadata": {},
   "outputs": [
    {
     "name": "stdout",
     "output_type": "stream",
     "text": [
      "Rich thinks he lives in a simulation\n",
      "Rich is not sure though\n",
      "Rich has a few ideas, however.\n"
     ]
    }
   ],
   "source": [
    "# formatted string literals\n",
    "name = 'Rich'\n",
    "print(f\"{name} thinks he lives in a simulation\")\n",
    "\n",
    "# str.format\n",
    "print('{} is not sure though'.format(name))\n",
    "\n",
    "# string slicing manually\n",
    "print(name+\" has a few ideas, however.\")"
   ]
  },
  {
   "cell_type": "markdown",
   "metadata": {},
   "source": [
    "### str() and repr()\n",
    "We can convert variables and types to representations in the interpreter by repr() or by strings with str(). Below:"
   ]
  },
  {
   "cell_type": "code",
   "execution_count": 2,
   "metadata": {},
   "outputs": [
    {
     "name": "stdout",
     "output_type": "stream",
     "text": [
      "(1.1, 23, ('spam', 'eggs'))\n",
      "(1.1, 23, ('spam', 'eggs'))\n"
     ]
    }
   ],
   "source": [
    "x = 1.1\n",
    "y = 23\n",
    "\n",
    "# str()\n",
    "print(str((x, y, ('spam', 'eggs'))))\n",
    "\n",
    "# repr()\n",
    "print(repr((x, y, ('spam', 'eggs'))))"
   ]
  },
  {
   "cell_type": "markdown",
   "metadata": {},
   "source": [
    "#### Below are some variations of string formatting that can be done.\n",
    "(Code directly below is copy paste)"
   ]
  },
  {
   "cell_type": "code",
   "execution_count": 3,
   "metadata": {},
   "outputs": [
    {
     "name": "stdout",
     "output_type": "stream",
     "text": [
      "The value of pi is approximately 3.142.\n",
      "Sjoerd     ==>       4127\n",
      "Jack       ==>       4098\n",
      "Dcab       ==>       7678\n",
      "My hovercraft is full of eels.\n",
      "My hovercraft is full of 'eels'.\n",
      "spam and eggs\n",
      "eggs and spam\n",
      "This spam is absolutely horrible.\n",
      "The story of Bill, Manfred, and Georg.\n",
      "Jack: 4098; Sjoerd: 4127; Dcab: 8637678\n",
      "Jack: 4098; Sjoerd: 4127; Dcab: 8637678\n",
      " 1   1    1\n",
      " 2   4    8\n",
      " 3   9   27\n",
      " 4  16   64\n",
      " 5  25  125\n",
      " 6  36  216\n",
      " 7  49  343\n",
      " 8  64  512\n",
      " 9  81  729\n",
      "10 100 1000\n"
     ]
    }
   ],
   "source": [
    "import math\n",
    "\n",
    "# gives you three floating points scoping the variable pi from math\n",
    "print(f'The value of pi is approximately {math.pi:.3f}.')\n",
    "\n",
    "# take names and phone from a dictionary object\n",
    "# this uses string literals\n",
    "table = {'Sjoerd': 4127, 'Jack': 4098, 'Dcab': 7678}\n",
    "for name, phone in table.items():\n",
    "    print(f'{name:10} ==> {phone:10d}')\n",
    "    \n",
    "# this is again a usage of string literal formatting\n",
    "animals = 'eels'\n",
    "print(f'My hovercraft is full of {animals}.')\n",
    "\n",
    "# here we use modifiers in our string literal\n",
    "# !r applies repr, s! uses string, !a uses ascii\n",
    "print(f'My hovercraft is full of {animals!r}.')\n",
    "\n",
    "# this is string formatting from the tuple\n",
    "print('{0} and {1}'.format('spam', 'eggs'))\n",
    "\n",
    "# this is the same string formatting reversed\n",
    "print('{1} and {0}'.format('spam', 'eggs'))\n",
    "\n",
    "# we use string formatting, but with variables instead\n",
    "print('This {food} is {adjective}.'.format(\n",
    "       food='spam', adjective='absolutely horrible'))\n",
    "\n",
    "# we can use argument indexing and variable defintions simultaneously\n",
    "# it seems that the formatting funtion takes *args\n",
    "print('The story of {0}, {1}, and {other}.'.format('Bill', 'Manfred',\\\n",
    "                                                       other='Georg'))\n",
    "\n",
    "# another way, a bit convoluted to key dictionary\n",
    "table = {'Sjoerd': 4127, 'Jack': 4098, 'Dcab': 8637678}\n",
    "print('Jack: {0[Jack]:d}; Sjoerd: {0[Sjoerd]:d}; '\n",
    "      'Dcab: {0[Dcab]:d}'.format(table))\n",
    "\n",
    "# This is the cleaner more intuitive way\n",
    "table = {'Sjoerd': 4127, 'Jack': 4098, 'Dcab': 8637678}\n",
    "print('Jack: {Jack:d}; Sjoerd: {Sjoerd:d}; Dcab: {Dcab:d}'.format(**table))\n",
    "\n",
    "# This does the same thing with formatting by indices\n",
    "for x in range(1, 11):\n",
    "    print('{0:2d} {1:3d} {2:4d}'.format(x, x*x, x*x*x))"
   ]
  },
  {
   "cell_type": "markdown",
   "metadata": {},
   "source": [
    "# READING AND WRITING FILES\n",
    "We can return a file object with two arguments, namely the filenma eand the mode. After opening the files we must close them, if they are closed we cannot use them. \n",
    "\n",
    "'r' for stricty reading\n",
    "'w' for writing to a file\n",
    "'r+' for both reading and writing\n",
    "'a' for appending to the end of the file\n",
    "\n",
    "By default the mode argument is optional. \n",
    "\n",
    "JPEG and EXE files will be treated differently and can corrupted by the open method. \n",
    "\n",
    "It is good practice to use the with keyword dealing with file objects; the file will be properly closed by default within the scope of the file object. We test out the principle below."
   ]
  },
  {
   "cell_type": "code",
   "execution_count": 20,
   "metadata": {},
   "outputs": [
    {
     "name": "stdout",
     "output_type": "stream",
     "text": [
      "here is the first line\n",
      "This is line 0\n",
      "This is line 1\n",
      "This is line 2\n",
      "This is line 3\n",
      "This is line 4\n",
      "This is line 5\n",
      "This is line 6\n",
      "This is line 7\n",
      "This is line 8\n",
      "This is line 9\n",
      "\n",
      "True\n",
      "['here is the first line\\n', 'This is line 0\\n', 'This is line 1\\n', 'This is line 2\\n', 'This is line 3\\n', 'This is line 4\\n', 'This is line 5\\n', 'This is line 6\\n', 'This is line 7\\n', 'This is line 8\\n', 'This is line 9\\n']\n",
      "173\n"
     ]
    }
   ],
   "source": [
    "# we write a file\n",
    "with open('workfile','w') as f:\n",
    "    f.write(\"here is the first line\\n\")\n",
    "    for i in range(10):\n",
    "        f.write(f'This is line {i}\\n')\n",
    "    \n",
    "# we read a file\n",
    "with open('workfile') as f:\n",
    "    print(f.read())\n",
    "    for line in f:\n",
    "        print(f.read())\n",
    "    \n",
    "    f.seek(0) # reset the iterator to the beginning\n",
    "    x = f.readlines()\n",
    "    f.seek(0)\n",
    "    # by default whence is the current position\n",
    "    # 0 is the beginning, 1 is the current, 2 is the end\n",
    "    y = list(f)\n",
    "    print(x==y)\n",
    "    \n",
    "    print(x) # contents of readlines(), equivalent to list\n",
    "    \n",
    "    print(f.tell()) # what line the iterator is on \n",
    "\n",
    "# generally, there are additional options."
   ]
  },
  {
   "cell_type": "markdown",
   "metadata": {},
   "source": [
    "### JSON file data\n",
    "JSON is a commonformat used in modern applications to allow for data exchange. \n",
    "\n",
    "Parsing is ideal with json file types. There i"
   ]
  },
  {
   "cell_type": "markdown",
   "metadata": {},
   "source": []
  },
  {
   "cell_type": "code",
   "execution_count": null,
   "metadata": {},
   "outputs": [],
   "source": []
  }
 ],
 "metadata": {
  "kernelspec": {
   "display_name": "Python 3",
   "language": "python",
   "name": "python3"
  },
  "language_info": {
   "codemirror_mode": {
    "name": "ipython",
    "version": 3
   },
   "file_extension": ".py",
   "mimetype": "text/x-python",
   "name": "python",
   "nbconvert_exporter": "python",
   "pygments_lexer": "ipython3",
   "version": "3.8.2"
  }
 },
 "nbformat": 4,
 "nbformat_minor": 2
}
