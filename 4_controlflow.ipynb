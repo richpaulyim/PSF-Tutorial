{
 "cells": [
  {
   "cell_type": "markdown",
   "metadata": {},
   "source": [
    "## IF, FOR, WHILE, RANGE, BREAK, ELSE, CONTINUE PASS... CONTROL FLOW!!!\n",
    "\n",
    "#### Control flow basics: <br>\n",
    "        1) There are 'if,' 'elif,' 'else' ladders where conditionals can be added together <br>\n",
    "        2) There are 'for' statements that cycle through sequences <br>\n",
    "        3) There are 'while' statements<br>\n",
    "        4) There is the 'range()' function<br>\n",
    "        5) There is the 'break', 'continue', and 'else' statements <br>\n",
    "        6) There are 'pass' statements"
   ]
  },
  {
   "cell_type": "code",
   "execution_count": 1,
   "metadata": {},
   "outputs": [
    {
     "name": "stdout",
     "output_type": "stream",
     "text": [
      "Pick a number, any number...3\n",
      "3 is positive\n"
     ]
    }
   ],
   "source": [
    "# if statement example\n",
    "x = int(input(\"Pick a number, any number...\"))\n",
    "if x < 0:\n",
    "    print(x,\"is negative\")\n",
    "elif x == 0:\n",
    "    print(x,\"is zero\")\n",
    "else: # this else statement is completely optional\n",
    "    print(x,\"is positive\")"
   ]
  },
  {
   "cell_type": "code",
   "execution_count": 2,
   "metadata": {},
   "outputs": [
    {
     "name": "stdout",
     "output_type": "stream",
     "text": [
      "Give me a word: yo\n",
      "Continue? yes please\n",
      "Give me a word: whaddup\n",
      "Continue? yeah why not\n",
      "Give me a word: eyy\n",
      "Continue? no\n",
      "\n",
      "\n",
      "yo 2\n",
      "whaddup 7\n",
      "eyy 3\n"
     ]
    }
   ],
   "source": [
    "x=[]\n",
    "cont = \"y\"\n",
    "while cont:\n",
    "    x.append(input(\"Give me a word: \"))\n",
    "    cont = input(\"Continue? \")\n",
    "    if cont.lower()[0] != \"y\":\n",
    "        print(\"\\n\")\n",
    "        break\n",
    "    \n",
    "for val in x:\n",
    "    print(val, len(val))"
   ]
  },
  {
   "cell_type": "markdown",
   "metadata": {},
   "source": [
    "#### Modifying a collection while iterating over said collection?\n",
    "There are two ways to do this: <br>\n",
    "1) Iterate over a copy <br>\n",
    "2) Create a new collection and iterate and modify\n",
    "We demonstrate this below: "
   ]
  },
  {
   "cell_type": "code",
   "execution_count": 3,
   "metadata": {},
   "outputs": [],
   "source": [
    "# # Strategy:  Iterate over a copy\n",
    "# for user, status in users.copy().items():\n",
    "#     if status == 'inactive':\n",
    "#         del users[user]\n",
    "\n",
    "# # Strategy:  Create a new collection\n",
    "# active_users = {}\n",
    "# for user, status in users.items():\n",
    "#     if status == 'active':\n",
    "#         active_users[user] = status\n",
    "        \n",
    "# (Note: this code block will be revisited with original code.\n",
    "#  This single block of code was copied from the original tutorial)"
   ]
  },
  {
   "cell_type": "markdown",
   "metadata": {},
   "source": [
    "How do we create a range of numbers?"
   ]
  },
  {
   "cell_type": "markdown",
   "metadata": {},
   "source": [
    "### range() function\n",
    "Instead of using loops for everything, we can use the range() function to to create a list, or a range of numbers. Notice how the upper range limit is consistent with collection slicing. Observe the behavior of the following:"
   ]
  },
  {
   "cell_type": "code",
   "execution_count": 4,
   "metadata": {},
   "outputs": [
    {
     "name": "stdout",
     "output_type": "stream",
     "text": [
      "0, 1, 2, 3, 4, 5, 6, 7, 8, 9, 10, 11, 12, 13, 14, 15, 16\n",
      "3, 4, 5, 6, 7, 8, 9\n",
      "2, 5\n",
      "13, 12, 11, 10, 9, 8, 7, 6, 5, 4, 3, 2, "
     ]
    }
   ],
   "source": [
    "# Print everything from 0, up to and EXCLUDING 17\n",
    "for i in range(17):\n",
    "    if i == 16:\n",
    "        print(i,end=\"\\n\")\n",
    "        break\n",
    "    print(i,end=', ')\n",
    "    \n",
    "# Print everything from 3, up to and excluding 10    \n",
    "for i in range(3,10):\n",
    "    if i == 9:\n",
    "        print(i,end=\"\\n\")\n",
    "        break\n",
    "    print(i,end=', ')\n",
    "    \n",
    "# Print everything from 2, up to and excluding 8, in steps of 3\n",
    "for i in range(2,8,3):\n",
    "    if i == 5:\n",
    "        print(i,end=\"\\n\")\n",
    "        break\n",
    "    print(i,end=', ')\n",
    "    \n",
    "# Print everything from 13, DOWN to and excluding 1, in steps of -1\n",
    "for i in range(13, 1, -1):\n",
    "    print(i,end=', ')"
   ]
  },
  {
   "cell_type": "markdown",
   "metadata": {},
   "source": [
    "#### Operations on ranges\n",
    "There are numerous things you can do to range objects, and here are a few of those things"
   ]
  },
  {
   "cell_type": "code",
   "execution_count": 5,
   "metadata": {},
   "outputs": [
    {
     "name": "stdout",
     "output_type": "stream",
     "text": [
      "24\n",
      "[10, 8, 6, 4, 2, 0, -2, -4]\n"
     ]
    }
   ],
   "source": [
    "x = range(10,-5,-2)\n",
    "print(sum(x)) # Try to write out why the sum is 24.\n",
    "y = list(x)\n",
    "print(y)"
   ]
  },
  {
   "cell_type": "markdown",
   "metadata": {},
   "source": [
    "#### Break, Continue, Else\n",
    "Above, we demonstrate the use of break already, essentially it stops the loop once python reaches 'break.' \n",
    "\n",
    "When 'continue' is encountered, Python will ignore the rest of the code in the loop, and instead start a new iteration of the loop from that point. \n",
    "\n",
    "Finally, we've already seen 'else' where if the 'if, elif' statements fail to be true, for all other cases, the code block under the else condition gets executed. \n"
   ]
  },
  {
   "cell_type": "code",
   "execution_count": 6,
   "metadata": {},
   "outputs": [
    {
     "name": "stdout",
     "output_type": "stream",
     "text": [
      "0  is zero!\n",
      "(0) Print me!\n",
      "1  is prime!\n",
      "2  is even!\n",
      "(2) Print me!\n",
      "3  is prime!\n",
      "4  is even!\n",
      "(4) Print me!\n",
      "5  is prime!\n",
      "6  is even!\n",
      "(6) Print me!\n",
      "7  is prime!\n",
      "8  is even!\n",
      "(8) Print me!\n"
     ]
    }
   ],
   "source": [
    "# we'll demonstrate in a for loop\n",
    "for i in range(13):\n",
    "    if(i in [1,3,5,7,11]):\n",
    "        print(i, \" is prime!\")\n",
    "        continue\n",
    "    elif(i==0):\n",
    "        print(i, \" is zero!\")\n",
    "    else:\n",
    "        if i+2 > 10:\n",
    "            break\n",
    "        print(i, \" is even!\")\n",
    "    print(\"({}) Print me!\".format(i),end='\\n')"
   ]
  },
  {
   "cell_type": "markdown",
   "metadata": {},
   "source": [
    "#### Pass? Wait, what?\n",
    "Sometime you might want an empty placeholder for your code. Maybe you want to see that your syntax and statement declarations work without having any code of substance."
   ]
  },
  {
   "cell_type": "code",
   "execution_count": 7,
   "metadata": {},
   "outputs": [],
   "source": [
    "while i < 10:\n",
    "    pass\n",
    "    i+=1\n",
    "class whaddoyado:\n",
    "    pass\n",
    "def initlog(*args):\n",
    "    pass"
   ]
  },
  {
   "cell_type": "markdown",
   "metadata": {},
   "source": [
    "### Defining functions, finally!\n",
    "You can easily define functions using the keyword 'def.'\n",
    "\n",
    "For our first example of creating a function we use a single parameter that can be passed, '(n)'"
   ]
  },
  {
   "cell_type": "code",
   "execution_count": 8,
   "metadata": {},
   "outputs": [
    {
     "name": "stdout",
     "output_type": "stream",
     "text": [
      "1\n",
      "None\n"
     ]
    }
   ],
   "source": [
    "def factorial(n): # we have keyword def, the function name 'factorial,' and argument parameter 'n'\n",
    "    \"\"\"Make a factorial of numbers all the way up to n\"\"\"\n",
    "    x=1\n",
    "    for i in range(n):\n",
    "        x*=(i+1) \n",
    "    print(x)\n",
    "print(factorial(0))"
   ]
  },
  {
   "cell_type": "markdown",
   "metadata": {},
   "source": [
    "##### Important things to note about functions:\n",
    "Keyword 'def' introduces functions. It must be followed by a function name(e.g. factorial), and the following code that will be executed in the function, the \"body\" must be indented.\n",
    "\n",
    "You can include what are called docstrings in your first line of the function definition. Write docstrings in your functions. \n",
    "\n",
    "How does variable referencing work in functions? <br>\n",
    "1) A function execution introduces a new symbol table used for the local variables of the function. <br>\n",
    "2) All variable assignements are stored locally in a function, in the local symbol table; variable reference look in the local symbol table; then final references are search throug hin the global symbol table<br>\n",
    "3) You cannot locally modify a global function unless oterwise specified with the 'global' keyword, or 'nonlocal' statement<br>\n",
    "4) Arguments are passed in as call-by-value, where the the 'value' is always an object 'reference.'\n",
    "\n",
    "In Python there are symbol tables, and a function definition introduces the function name in the current symbol table; this value can be used to assign other variables the same function definition, but with a different name:"
   ]
  },
  {
   "cell_type": "code",
   "execution_count": 9,
   "metadata": {},
   "outputs": [
    {
     "name": "stdout",
     "output_type": "stream",
     "text": [
      "6\n"
     ]
    }
   ],
   "source": [
    "factorial\n",
    "fac = factorial\n",
    "fac(3)"
   ]
  },
  {
   "cell_type": "markdown",
   "metadata": {},
   "source": [
    "##### What about return types, isn't factorial just a procedure?\n",
    "Sure, in other programming languages this might just be a procedure since nothing seems to be returned; however in python this just isn't true!\n",
    "\n",
    "Python actually returns 'None.' Also, if we simply have the keyword, without any following expressions, it will return 'None.' As well. "
   ]
  },
  {
   "cell_type": "code",
   "execution_count": 10,
   "metadata": {},
   "outputs": [
    {
     "name": "stdout",
     "output_type": "stream",
     "text": [
      "6\n",
      "None\n"
     ]
    }
   ],
   "source": [
    "print(fac(3))"
   ]
  },
  {
   "cell_type": "markdown",
   "metadata": {},
   "source": [
    "##### So, can we just return the factorial instead?\n",
    "Yes, we can! This is how we can modify our factorial function definition:"
   ]
  },
  {
   "cell_type": "code",
   "execution_count": 11,
   "metadata": {},
   "outputs": [
    {
     "name": "stdout",
     "output_type": "stream",
     "text": [
      "1\n"
     ]
    }
   ],
   "source": [
    "def factorial(n): \n",
    "    \"\"\"Make a factorial of numbers all the way up to n\"\"\"\n",
    "    x=1\n",
    "    for i in range(n):\n",
    "        x*=(i+1) \n",
    "    return x\n",
    "print(factorial(1))"
   ]
  },
  {
   "cell_type": "markdown",
   "metadata": {},
   "source": [
    "##### Methods?\n",
    "Suppose we have an list object called 'result' calling\n",
    "'result.append(4),' assuming 'result' is a list object of integers, appends integers. \n",
    "\n",
    "In this case, '.append()' was a method for the result object. \n",
    "\n",
    "Methods will be discussed in greater detail when we talk about classes later on."
   ]
  },
  {
   "cell_type": "markdown",
   "metadata": {},
   "source": [
    "#### More technicalities on defining functions\n",
    "It is possible to define functions with a variable number of arguments, to which there are 3 forms that you can use in combination: <br>\n",
    "1) Default argument values <br>\n",
    "2) Keyword arguments <br>\n",
    "3) Special parameters"
   ]
  },
  {
   "cell_type": "markdown",
   "metadata": {},
   "source": [
    "##### We create Default Argument Values"
   ]
  },
  {
   "cell_type": "code",
   "execution_count": 12,
   "metadata": {},
   "outputs": [
    {
     "name": "stdout",
     "output_type": "stream",
     "text": [
      "whaddup? not muhc\n",
      "not muhc 1.0 st\n",
      "whaddup? como estas\n",
      "como estas 4 st\n",
      "whaddup? kimchi\n",
      "kimchi 5 not much\n",
      "whaddup? sushi\n",
      "sushi not much 5\n"
     ]
    }
   ],
   "source": [
    "def int_float_string(nt, oat=1.0, ring=\"st\"):\n",
    "    x = input(nt)\n",
    "    print(x, oat, ring)\n",
    "\n",
    "int_float_string(\"whaddup? \")\n",
    "int_float_string(\"whaddup? \", 4)\n",
    "int_float_string(\"whaddup? \", 5, \"not much\")\n",
    "int_float_string(\"whaddup? \", \"not much\", 5)\n",
    "# notice that in the last function call\n",
    "# the datatype is overriden from float to string\n",
    "# by our passing of the argument"
   ]
  },
  {
   "cell_type": "markdown",
   "metadata": {},
   "source": [
    "##### Local variable effects\n",
    "Finally note what happens to objects defined locally \n",
    "in the scope of the function."
   ]
  },
  {
   "cell_type": "code",
   "execution_count": 36,
   "metadata": {},
   "outputs": [
    {
     "name": "stdout",
     "output_type": "stream",
     "text": [
      "1000000\n",
      "[1]\n",
      "[1, 3]\n",
      "[1, 3, 5]\n",
      "[1]\n",
      "[3]\n",
      "[5]\n"
     ]
    }
   ],
   "source": [
    "# 1)\n",
    "i = 1_000_000\n",
    "def func1(arg=i): # arg function is created locally\n",
    "    # and during execution is stored original i-value\n",
    "    print(arg)\n",
    "i=0 \n",
    "func1()\n",
    "\n",
    "# 2)\n",
    "def func2(adder, mylist=[]):\n",
    "    mylist.append(adder)\n",
    "    return mylist\n",
    "print(func2(1))\n",
    "print(func2(3))\n",
    "print(func2(5)) \n",
    "# Each function call of func2\n",
    "# will permanently modify the local symbol table of\n",
    "# func2's environment for the mylist variable\n",
    "\n",
    "def func2(adder, mylist=None):\n",
    "    if mylist is None:\n",
    "        mylist = []\n",
    "    mylist.append(adder)\n",
    "    return mylist\n",
    "print(func2(1))\n",
    "print(func2(3))\n",
    "print(func2(5))\n",
    "# Since 'None' is not datatype, for each call\n",
    "# Python will reassign mylist to None, and reset\n",
    "# its value, hence the lack of continuation show below"
   ]
  },
  {
   "cell_type": "markdown",
   "metadata": {},
   "source": [
    "##### We create Keyword Arguments\n",
    "For short they're called \"kwargs\" and they're set with the form of kwarg-value. \n",
    "\n",
    "This is opposed to positional word arguments that we have demonstrated above."
   ]
  },
  {
   "cell_type": "code",
   "execution_count": 1,
   "metadata": {},
   "outputs": [
    {
     "name": "stdout",
     "output_type": "stream",
     "text": [
      "Look at me, I'm red ! OH YEAH !!! PBJ TIME!!! * pitcher  enters*\n",
      "Look at me, I'm red ! OH NO !!! BREAKING THROUGH WALL TIME!!! * INVADER  enters*\n"
     ]
    }
   ],
   "source": [
    "def kool_aid(color, phrase='OH YEAH', action='HOME INVASION', type='pitcher'):\n",
    "    print(\"Look at me, I'm\", color, \"!\", phrase,\"!!!\", action, 'TIME!!!', \"*\", type,\" enters*\")\n",
    "# Below works!\n",
    "kool_aid(\"red\", action=\"PBJ\") # 1 positional, 1 keyword, 2 default\n",
    "kool_aid(\"red\", phrase=\"OH NO\", action=\"BREAKING THROUGH WALL\", type=\"INVADER\")\n",
    "# # Below does not...\n",
    "# kool_aid() # missing required argument\n",
    "# kool_aid(phrase=\"nope nope\", \"uhh, ambiguous much?\") # non-kwarg after kwarg\n",
    "# # let alone not having positional 'color' defined\n",
    "# kool_aid(rogue_bois=\"Stranger danger!!!\") # This is not a kwarg, 'rogue_bois'"
   ]
  },
  {
   "cell_type": "markdown",
   "metadata": {},
   "source": [
    "What's nice about kwargs and python functions is that kwarg order\n",
    "definitions don't matter, only if the string characteristic\n",
    "is correct or not is what matters... For example:\n",
    "  \n",
    "    kool_aid(phrase=\"poggers\", color=\"green\")\n",
    "    \n",
    "Will work as intended. However, in all function calls, positional arguments MUST be called first before all kwargs, and we MUST be cautious in multiple parameter definition.\n",
    "\n",
    "##### Finally we have the special parameters \\*name1, \\*\\*name2\n",
    "The \\*name1 is recognized in the parameter to be a tuple, which is a container/data-structure for holding objects. However, \\*\\*name2 is recognized in the parameter of a function to be dictionary with keyword acting as a key. \n",
    "\n",
    "(Important note: not using \\*name1 before \\*\\*name2 will cause an error)\n",
    "\n",
    "For example:"
   ]
  },
  {
   "cell_type": "code",
   "execution_count": 16,
   "metadata": {},
   "outputs": [
    {
     "name": "stdout",
     "output_type": "stream",
     "text": [
      "So... What is your obj1?\n",
      "The following are my objectives:\n",
      "- Gold\n",
      "- Glory\n",
      "- God (which is actually just more glory)\n",
      "I need some keys to let you access those objectives\n",
      "- Money is good. This is the key: gold\n",
      "- Rather have more money. This is the key: glory\n"
     ]
    }
   ],
   "source": [
    "def missionimpossible(obj1, *tuples, **dictionaries):\n",
    "    print(\"So... What is your {}?\".format('obj1'))\n",
    "    print(\"The following are my objectives:\")\n",
    "    for item in tuples:\n",
    "        print(\"-\",item)\n",
    "    print(\"I need some keys to let you access those objectives\")\n",
    "    for key in dictionaries:\n",
    "        print(\"- \" + dictionaries[key] + '. This is the key: ' + key)\n",
    "\n",
    "missionimpossible(10, \"Gold\", \"Glory\", \"God (which is actually just more glory)\",\\\n",
    "                 gold=\"Money is good\", glory=\"Rather have more money\")\n",
    "\n",
    "# Essentially, indexing through dictionaries; this will be discussed\n",
    "# in greater detail, next chapter\n",
    "\n",
    "# Does the parameter format work for more than one **name2 arguments?"
   ]
  },
  {
   "cell_type": "markdown",
   "metadata": {},
   "source": [
    "##### General special parameter format\n",
    "    def func(pos1, pos2, /, pos_or_kwd, *, kwd, kwd2)\n",
    "             ^^^^^^^^^^                 ^^^^^^^^^^^\n",
    "           [positional only] ^^^^^^^^^^ [Keyword only]\n",
    "                       [positional or keyword]\n",
    "Notice that we have special characters '/' and '\\*':\n",
    "- All arguments before '/' MUST be positional\n",
    "- All arguments after '/' CAN be positional_or_keyword, or keyword\n",
    "- All arguments after '\\*' MUST be keyword\n",
    "\n",
    "So, how do we use these symbols? Here are the examples from the original tutorial:"
   ]
  },
  {
   "cell_type": "code",
   "execution_count": 49,
   "metadata": {},
   "outputs": [],
   "source": [
    "# def standard_arg(arg):\n",
    "#      print(arg)\n",
    "\n",
    "def pos_only_arg(arg, hello=3):\n",
    "     print(arg)\n",
    "\n",
    "def kwd_only_arg(arg):\n",
    "    print(arg)\n",
    "\n",
    "def combined_example(pos_only, standard, *, kwd_only=3):\n",
    "     print(pos_only, standard, kwd_only)"
   ]
  },
  {
   "cell_type": "markdown",
   "metadata": {},
   "source": [
    "(Important note: from my current understanding it seems that the special characters don't really work, with the exception of *)\n",
    "\n",
    "##### Departing rules of thumb for function formats:\n",
    "1) Use positional-only if you want names to be hidden from user;\n",
    "good if parameter names have no real meaning, for enforcing parameter order, or positional parameters and arbitrary keywords will be taken\n",
    "\n",
    "2) Use keyword ONLY when names have meaning and function defintion is more understandable with explicit names\n",
    "\n",
    "3) Prevent user reliance on positional statements\n",
    "\n",
    "4) When using APIs, use positional-only to prevent breaking API changes if the parameter's name is ever modified in a future API version"
   ]
  },
  {
   "cell_type": "markdown",
   "metadata": {},
   "source": [
    "#### Arbitrary Argument Lists\n",
    "So, in our example of the 'missionimpossible()' function we used what are called variadic arguments essentially making an arbitrary argument list. We did this for both the \\*name1 and \\*\\*name2 specifying a tuple argument list and a keyword argument list. \n",
    "\n",
    "Look back at that for reference!"
   ]
  },
  {
   "cell_type": "markdown",
   "metadata": {},
   "source": [
    "#### Unpacking Argument Lists\n",
    "How do we unpack argument lists? We unpack tuple arguments with '\\*' and dictionary aguments with '\\*\\*'. Below are some examples:"
   ]
  },
  {
   "cell_type": "code",
   "execution_count": 60,
   "metadata": {},
   "outputs": [
    {
     "name": "stdout",
     "output_type": "stream",
     "text": [
      "[-9, -8, -7, -6, -5, -4, -3, -2, -1]\n",
      "What is a? It is day\n",
      "What is b? It is boo\n",
      "What is c? It is cat food\n"
     ]
    }
   ],
   "source": [
    "listrange = [-9,0]\n",
    "x = list(range(*listrange))\n",
    "\n",
    "def dictfunc(a, b, c=\"see\"):\n",
    "    return \"What is a? It is \" + a +\"\\n\" + \"What is b? It is \" + b\\\n",
    "    + \"\\nWhat is c? It is \" + c\n",
    "diction = {\"b\":\"boo\", \"c\":\"cat food\",\"a\": \"day\"}\n",
    "y = dictfunc(**diction)\n",
    "\n",
    "print(x)\n",
    "print(y) # Notice how the order in the dictinoary unpacking is irrelevant\n",
    "# it still prints according to the argument list"
   ]
  },
  {
   "cell_type": "markdown",
   "metadata": {},
   "source": [
    "#### Lambda Expressions\n",
    "The original tutorial explains it best:\n",
    "\n",
    "    'Small anonymous functions can be created with the lambda keyword. This function returns the sum of its two arguments: lambda a, b: a+b. Lambda functions can be used wherever function objects are required. They are syntactically restricted to a single expression. Semantically, they are just syntactic sugar for a normal function definition. Like nested function definitions, lambda functions can reference variables from the containing scope'\n",
    "\n",
    "Syntactic sugar is a cool term that really means concise and effective syntax/style. \n",
    "\n",
    "We can pass lambda expressions as a function return or argument. We show these examples below (the following examples are from the original tutorial):"
   ]
  },
  {
   "cell_type": "code",
   "execution_count": 81,
   "metadata": {},
   "outputs": [
    {
     "name": "stdout",
     "output_type": "stream",
     "text": [
      "56\n",
      "33\n",
      "[(4, 'four'), (1, 'one'), (3, 'three'), (2, 'two')]\n"
     ]
    }
   ],
   "source": [
    "# lambda expression in function return\n",
    "def make_incrementor(n):\n",
    "    return lambda x: x+n\n",
    "f = make_incrementor(43)\n",
    "print(f(13))\n",
    "print(f(-10))\n",
    "\n",
    "# lambda expression in function argument\n",
    "pairs = [(1, 'one'), (2, 'two'), (3, 'three'), (4, 'four')]\n",
    "pairs.sort(key=lambda pair: pair[1])\n",
    "# key is a keyword of the sort function\n",
    "# the above line alphanumerically orders the pairs\n",
    "print(pairs)"
   ]
  },
  {
   "cell_type": "markdown",
   "metadata": {},
   "source": [
    "### Doc Strings\n",
    "Super useful characteristics of functions and classes. \n",
    "Standard conventions:\n",
    "\n",
    "1) Short first line, concise summary of the object's purpose.\n",
    "\n",
    "2) Should not explicitly state object's name or type\n",
    "\n",
    "3) This first line should be a proper sentence\n",
    "\n",
    "4) Visually, the second line MUST be blank\n",
    "\n",
    "5) Following lines should be one or more paragraphs describing object calling conventions and side effect\n",
    "\n",
    "6) Whitespace will appear in the doc string output"
   ]
  },
  {
   "cell_type": "code",
   "execution_count": 83,
   "metadata": {},
   "outputs": [
    {
     "name": "stdout",
     "output_type": "stream",
     "text": [
      "    This will not do anything.\n",
      "    \n",
      "    This is only to demonstrate proper doc-string formatting\n",
      "    \n"
     ]
    }
   ],
   "source": [
    "def func():\n",
    "    \n",
    "    \"\"\"\\\n",
    "    This will not do anything.\n",
    "    \n",
    "    This is only to demonstrate proper doc-string formatting\n",
    "    \"\"\"\n",
    "    \n",
    "    pass\n",
    "print(func.__doc__) \n",
    "# this is how you access the doc-string, \n",
    "# this syntax will further be explained later on (the underscores)"
   ]
  },
  {
   "cell_type": "markdown",
   "metadata": {},
   "source": [
    "##### Function Annotation\n",
    "\"Completely optional metadata information about the types used by user-defined functions.\" The syntax is literally as you see it. You can access the function annotations attribute with \".__annotations__\" \n",
    "\n",
    "This is completely NOT necessary! But it's useful to be aware about. "
   ]
  },
  {
   "cell_type": "code",
   "execution_count": 63,
   "metadata": {},
   "outputs": [
    {
     "name": "stdout",
     "output_type": "stream",
     "text": [
      "Annotations: {'ham': <class 'str'>, 'eggs': <class 'str'>, 'return': <class 'str'>}\n",
      "Arguments: spam eggs\n"
     ]
    },
    {
     "data": {
      "text/plain": [
       "'spam and eggs'"
      ]
     },
     "execution_count": 63,
     "metadata": {},
     "output_type": "execute_result"
    }
   ],
   "source": [
    "def f(ham: str, eggs: str = 'eggs') -> str:\n",
    "    print(\"Annotations:\", f.__annotations__)\n",
    "    print(\"Arguments:\", ham, eggs)\n",
    "    return ham + ' and ' + eggs\n",
    "\n",
    "f('spam')"
   ]
  },
  {
   "cell_type": "markdown",
   "metadata": {},
   "source": [
    "#### Coding Style Convetions (PEP 8)\n",
    "1) 4-space indentation, no tabs, sorry Richard Hendricks, unless you editor know that the tab key is 4 spaces\n",
    "\n",
    "2) Wrap lines so that they don't exceed 79 characters\n",
    "\n",
    "3) Use blank lines to separate functions and classes, and larger blocks of code instide functions\n",
    "\n",
    "4) Put commands on a line of their own, when possible\n",
    "\n",
    "5) Don't be lazy and use docstrings!\n",
    "\n",
    "6) Use spaces around operators and after commas, no directly inside bracketing cosntructs\n",
    "\n",
    "7) Capitalization conventions\n",
    "- For classes: UpperCamelCase\n",
    "- For functions and methods: lowercase_with_underscores\n",
    "\n",
    "8) Always use 'self' as the name for the first method argument\n",
    "\n",
    "9) Don't use fancy encodings, UTF-8 is fine for nearly all cases; don't use non-ASCII characters either\n",
    "\n",
    "10) By law, you cannot code in Python if you have never seen a Monty Python sketch, otherwise it is considered a federal offense punishable by death\n"
   ]
  }
 ],
 "metadata": {
  "kernelspec": {
   "display_name": "Python 3",
   "language": "python",
   "name": "python3"
  },
  "language_info": {
   "codemirror_mode": {
    "name": "ipython",
    "version": 3
   },
   "file_extension": ".py",
   "mimetype": "text/x-python",
   "name": "python",
   "nbconvert_exporter": "python",
   "pygments_lexer": "ipython3",
   "version": "3.6.8"
  }
 },
 "nbformat": 4,
 "nbformat_minor": 2
}
