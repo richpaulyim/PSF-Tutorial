{
 "cells": [
  {
   "cell_type": "markdown",
   "metadata": {},
   "source": [
    "#### Comments in python start with the hash character"
   ]
  },
  {
   "cell_type": "code",
   "execution_count": 1,
   "metadata": {},
   "outputs": [],
   "source": [
    "javertsays = 24601 # my name is jean valjean!"
   ]
  },
  {
   "cell_type": "markdown",
   "metadata": {},
   "source": [
    "## NUMBERS"
   ]
  },
  {
   "cell_type": "markdown",
   "metadata": {},
   "source": [
    "#### Python numbers and calculations are follow definitions\n",
    "There are integers and floating point numbers.\n",
    "\n",
    "If a number is not divisible by another, the quotient will be a noninteger, or float point number.\n",
    "\n",
    "We can create float point numbers by simply adding a '.' behind our digits.\n",
    "\n",
    "Observe the following outputs:"
   ]
  },
  {
   "cell_type": "code",
   "execution_count": 6,
   "metadata": {},
   "outputs": [
    {
     "name": "stdout",
     "output_type": "stream",
     "text": [
      "5.333333333333333, 4.0, 4.0, 5, 2, 1, 256\n"
     ]
    }
   ],
   "source": [
    "print(16/3, 16/4, 16.0/4, 16//3, 16%7, 16**0, 16**2, sep=', ')\n",
    "# The nice thing about python is its full support of floating points"
   ]
  },
  {
   "cell_type": "markdown",
   "metadata": {},
   "source": [
    "#### We can assign variables number values"
   ]
  },
  {
   "cell_type": "code",
   "execution_count": 12,
   "metadata": {},
   "outputs": [
    {
     "name": "stdout",
     "output_type": "stream",
     "text": [
      "Volume is 115.92250922509226 cubic feet\n"
     ]
    }
   ],
   "source": [
    "mass = 31415\n",
    "density = 271\n",
    "print('Volume is', mass/density, 'cubic feet')"
   ]
  },
  {
   "cell_type": "markdown",
   "metadata": {},
   "source": [
    "#### Finally, Python has furter support for decimal numbers, quotient space, and complex numbers\n",
    "(Discover them for yourself!)"
   ]
  },
  {
   "cell_type": "markdown",
   "metadata": {},
   "source": [
    "## STRINGS"
   ]
  },
  {
   "cell_type": "markdown",
   "metadata": {},
   "source": [
    "#### There are different quotation styles and you can use '\\' to escape quotes\n",
    "Additionally, you have access to the print() function, which has been used above!"
   ]
  },
  {
   "cell_type": "code",
   "execution_count": 20,
   "metadata": {},
   "outputs": [
    {
     "name": "stdout",
     "output_type": "stream",
     "text": [
      "spam eggs\n",
      "doesn't\n",
      "doesn't\n",
      "\"Yeet,\" they said\n"
     ]
    }
   ],
   "source": [
    "print('spam eggs', 'doesn\\'t', \"doesn't\", '\"Yeet,\" they said', sep=\"\\n\")\n",
    "# the special character '\\n' sep(arates) the print statements line-by-line\n",
    "# there is an additional character '\\t' that makes tabs"
   ]
  },
  {
   "cell_type": "markdown",
   "metadata": {},
   "source": [
    "#### What if we want to ignore special characters with '\\'?\n",
    "In that case, we can use 'r', preceeding the argument of a print statement:"
   ]
  },
  {
   "cell_type": "code",
   "execution_count": 24,
   "metadata": {},
   "outputs": [
    {
     "name": "stdout",
     "output_type": "stream",
     "text": [
      "\n",
      "oodles are delicious and so are \tacos  isn't that so?\n",
      "\\noodles are delicious and so are \\tacos  isn\\'t that so?\n"
     ]
    }
   ],
   "source": [
    "print('\\noodles are delicious and so are \\tacos',' isn\\'t that so?')\n",
    "print(r'\\noodles are delicious and so are \\tacos', r'isn\\'t that so?')"
   ]
  },
  {
   "cell_type": "markdown",
   "metadata": {},
   "source": [
    "#### String literals can span multiple lines and \"operations\" can be performed on strings\n",
    "Using \"\"\"...\"\"\" or '''...'''\n",
    "and\n",
    "str*str + str..."
   ]
  },
  {
   "cell_type": "code",
   "execution_count": 50,
   "metadata": {},
   "outputs": [
    {
     "name": "stdout",
     "output_type": "stream",
     "text": [
      "hello, duuuude\n",
      "   erwer\n",
      "\n",
      "ice ice baby\n",
      "ice baby ice baby \n",
      "lolololololololololololololololololololololololololololololololololololololololololololololololololololololol\n",
      "petezah petezah petezah \n"
     ]
    }
   ],
   "source": [
    "print(\"\"\"\\\n",
    "hello, duuuude\n",
    "   erwer\n",
    "\"\"\") \n",
    "# notice how spacing and identation are preserved; using '\\' prevent inclusion of beginning and end lines\n",
    "\n",
    "print(2*\"ice \" + 'baby')\n",
    "# what is the different between this print and the last?\n",
    "print(2*\"ice \" 'baby ') \n",
    "\n",
    "# separate quotes produce automatically concatenated strings like in the last statement\n",
    "# this is useful for continuing long strings in a print function\n",
    "print(\"lololololololololololololololololololololololololololol\"\n",
    "      \"ololololololololololololololololololololololololololol\")\n",
    "# word of caution: this ONLY works with STRING LITERALS, without any variable inclusions or string operations!\n",
    "\n",
    "p = \"pete\"\n",
    "print((p + \"zah \")*3) # is permissible"
   ]
  },
  {
   "cell_type": "markdown",
   "metadata": {},
   "source": [
    "#### String indexing, subsetting, and slicing\n",
    "Assuming you have a string, variable OR literal, you can slice with the following rules:\n",
    "\n",
    "    1) slicing 'string'[a:b] will slice starting from 'a' up to 'b'(excluded)\n",
    "    2) since 0 is the same as -0, in order to index backwards, we start with the last character as 'string'[-1]\n",
    "    3) slicing from the right (e.g. 'string'[:b]) will include all characters before that index\n",
    "    4) slicing from the left will include all characters after that index and on\n",
    "    5) Indexing out of range does not work, however slicing out range DOES\n",
    "    6) strings are immutable, so we cannot change individual characters in a string using indexing\n",
    "\n",
    "Below are some examples:"
   ]
  },
  {
   "cell_type": "code",
   "execution_count": 51,
   "metadata": {},
   "outputs": [
    {
     "name": "stdout",
     "output_type": "stream",
     "text": [
      "s, g, str, tring, in, \n"
     ]
    }
   ],
   "source": [
    "print('string'[0], 'string'[-1], 'string'[:3], 'string'[1:], 'string'[-3:-1], 'string'[90:], sep=', ')\n",
    "# 'string'[90] and 'string'[0]='h' will throw errors"
   ]
  },
  {
   "cell_type": "markdown",
   "metadata": {},
   "source": [
    "#### One last thing: Built-in functions and other methods\n",
    "There is a built in string length function that can be called with len().\n",
    "\n",
    "More string related functions can be found within the standard library..."
   ]
  },
  {
   "cell_type": "code",
   "execution_count": 52,
   "metadata": {},
   "outputs": [
    {
     "data": {
      "text/plain": [
       "9"
      ]
     },
     "execution_count": 52,
     "metadata": {},
     "output_type": "execute_result"
    }
   ],
   "source": [
    "# a nice built-in function is\n",
    "s = \"yolo bois\"\n",
    "len(s) "
   ]
  },
  {
   "cell_type": "markdown",
   "metadata": {},
   "source": [
    "## LISTS\n",
    "A lot of the string properties are preserved in lists, since strings are essentially lists of characters.\n",
    "\n",
    "All of the concatenting, indexing, subsetting, and slicing works with lists as they did in strings.\n",
    "\n",
    "But, there are additional features:\n",
    "\n",
    "    1) lists are mutable by slices and indices\n",
    "    2) lists can be appended to, at their ends\n",
    "    3) lists can be nested; multiple indexing, slicing, etc... works as demonstrated"
   ]
  },
  {
   "cell_type": "code",
   "execution_count": 77,
   "metadata": {},
   "outputs": [
    {
     "name": "stdout",
     "output_type": "stream",
     "text": [
      "[[[[0, 10, 10, 1, 4, 3, 5, 7], [0, 10, 10, 1, 4, 3, 5, 7]], [0, 10, 10, 1, 4, 3, 5, 7]]]\n",
      "[10, 1, 4, 3, 5, 7]\n"
     ]
    }
   ],
   "source": [
    "fib = [0, 1, 1, 2, 3, 5]\n",
    "fib[-3] = 4\n",
    "fib[:2] = [0,10,10]\n",
    "fib.append(7)\n",
    "fibstruction_of_justice = [[[fib,fib],fib]]\n",
    "print(fibstruction_of_justice)\n",
    "# with really nasty indexing...\n",
    "print(fibstruction_of_justice[0][:1][:1][0][:1][0][2:])"
   ]
  },
  {
   "cell_type": "markdown",
   "metadata": {},
   "source": [
    "## FIRST STEPS\n",
    "The official Python tutorial gives this nice introduction to more advanced features and a combined application of what was taught in this first tutorial."
   ]
  },
  {
   "cell_type": "code",
   "execution_count": 81,
   "metadata": {},
   "outputs": [
    {
     "name": "stdout",
     "output_type": "stream",
     "text": [
      "0, 1, 1, 2, 3, 5, 8, "
     ]
    }
   ],
   "source": [
    "a, b = 0, 1 # 1\n",
    "while a < 10: # 2\n",
    "    print(a,end=\", \") # 3\n",
    "    a, b = b, a+b # 4"
   ]
  },
  {
   "cell_type": "markdown",
   "metadata": {},
   "source": [
    "#### So, what's happening here?\n",
    "    1) We are making multiple assignments to our variables\n",
    "    2) We are making a while loop that conditionally checks if our value 'a' is strictly less than 10\n",
    "    3) we are print the variable a's value and ending each print statement with a \", \"\n",
    "    4) we are again making multiple assignment to our variables, assigning b to a, and a+b to b\n",
    "##### And what's the point?\n",
    "# PYTHON IS FLEXIBLE!"
   ]
  }
 ],
 "metadata": {
  "kernelspec": {
   "display_name": "Python 3",
   "language": "python",
   "name": "python3"
  },
  "language_info": {
   "codemirror_mode": {
    "name": "ipython",
    "version": 3
   },
   "file_extension": ".py",
   "mimetype": "text/x-python",
   "name": "python",
   "nbconvert_exporter": "python",
   "pygments_lexer": "ipython3",
   "version": "3.6.8"
  }
 },
 "nbformat": 4,
 "nbformat_minor": 2
}
