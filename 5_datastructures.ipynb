{
 "cells": [
  {
   "cell_type": "markdown",
   "metadata": {},
   "source": [
    "### Additional List Functions and Implementations\n",
    "Below, we show some additional list functions and properties, as well as the stack and queue in Python"
   ]
  },
  {
   "cell_type": "code",
   "execution_count": 1,
   "metadata": {},
   "outputs": [
    {
     "name": "stdout",
     "output_type": "stream",
     "text": [
      "30\n",
      "8\n"
     ]
    }
   ],
   "source": [
    "x = list(range(1, 11, 2))\n",
    "x.append(12)\n",
    "# This will append an element to the end of the list\n",
    "\n",
    "x.extend(range(12, 21, 2))\n",
    "x[len(x):] = range(22, 31, 2)\n",
    "# The above two lines are both ways to extend a list\n",
    "\n",
    "x.insert(len(x), 32)\n",
    "# This will insert an item at the position of len(x), and insert 32\n",
    "# The argument of position is completely optional \n",
    "\n",
    "x.remove(32)\n",
    "# This will remove the first instance of 32 in the list\n",
    "\n",
    "print(x.pop(len(x)-1))\n",
    "# This will remove the element at this entry, and return the 'popped' value\n",
    "# The argument is completely optional, it will default to popping the last item\n",
    "\n",
    "y = x.copy()\n",
    "# This creates a shallow copy of the list x and assigns it to y\n",
    "\n",
    "y.clear()\n",
    "# This completely clears all elements in the array \n",
    "\n",
    "x.count(10)\n",
    "# This counts the number of appearances of the number 10 in the list\n",
    "\n",
    "x.sort(reverse=True, key=None)\n",
    "# This sorts the list, 'reverse=True' will reverse the items in list\n",
    "\n",
    "print(x.index(12,7,9))\n",
    "# This returns the index of the first item whose value is equal to 12\n",
    "# The second two arguments in the list denote the start and end,\n",
    "# and are similar to the slicing notation (left continuous)\n",
    "\n",
    "x.reverse()\n",
    "# This reverses items in list"
   ]
  },
  {
   "cell_type": "markdown",
   "metadata": {},
   "source": [
    "##### A few things to note about lists\n",
    "- Somethings cannot be compared and do not have a canonical ordering, such as complex numbers in python\n",
    "- You cannot sort the list '\\[None, 'hello', 10\\]', since None is just NULL valued, integers are not strings"
   ]
  },
  {
   "cell_type": "markdown",
   "metadata": {},
   "source": [
    "#### We can directly use lists as stack, last-in-first-out\n",
    "This basically requires only two functions"
   ]
  },
  {
   "cell_type": "code",
   "execution_count": 2,
   "metadata": {},
   "outputs": [
    {
     "data": {
      "text/plain": [
       "40"
      ]
     },
     "execution_count": 2,
     "metadata": {},
     "output_type": "execute_result"
    }
   ],
   "source": [
    "x.append(40)\n",
    "x.pop() # will return 40 as intended"
   ]
  },
  {
   "cell_type": "markdown",
   "metadata": {},
   "source": [
    "#### We can almost use lists directly as queues, first-in-first-out\n",
    "The issue with using a list implementation of a queue is that item insertiona and removal at the beginning of the list is slow because items must be shifted down the list. \"collections.deque allow for fast appends and pops on both ends.\""
   ]
  },
  {
   "cell_type": "code",
   "execution_count": 29,
   "metadata": {},
   "outputs": [
    {
     "data": {
      "text/plain": [
       "deque(['how', 'are', 'you?', \"I'm\", 'well'])"
      ]
     },
     "execution_count": 29,
     "metadata": {},
     "output_type": "execute_result"
    }
   ],
   "source": [
    "from collections import deque\n",
    "queue = deque([\"Hey,\", \"how\", \"are\", \"you?\"]) # deque is an function\n",
    "queue.append(\"I'm\") # we append \"I'm\"\n",
    "queue.append(\"well\") # we append \"well\"\n",
    "queue.popleft()\n",
    "queue"
   ]
  },
  {
   "cell_type": "markdown",
   "metadata": {},
   "source": [
    "### List comprehensions\n",
    "\n",
    "There are several ways to create lists. The first method utilizes a iterations; the second method uses lambda expressions; and the final method uses the list comprehension."
   ]
  },
  {
   "cell_type": "code",
   "execution_count": 5,
   "metadata": {},
   "outputs": [
    {
     "name": "stdout",
     "output_type": "stream",
     "text": [
      "[0, 1, 8, 27, 64, 125, 216, 343, 512, 729]\n",
      "[0, 1, 8, 27, 64, 125, 216, 343, 512, 729]\n",
      "[0, 1, 8, 27, 64, 125, 216, 343, 512, 729]\n"
     ]
    }
   ],
   "source": [
    "# Conventional list creation\n",
    "cubes = []\n",
    "for x in range(10):\n",
    "    cubes.append(x**3)\n",
    "print(cubes)\n",
    "# functional list comprehension\n",
    "cubes = list(map(lambda x: x**3, range(10)))\n",
    "print(cubes)\n",
    "# atomic list comprehension\n",
    "cubes = [x**3 for x in range(10)]\n",
    "print(cubes)"
   ]
  },
  {
   "cell_type": "markdown",
   "metadata": {},
   "source": [
    "#### General structure?\n",
    "Generally, we have a list comprehension containing an expression, then a `for` clause, and then as many `for` and `if` clauses as needed. We take the following example from the PSF of differences between list comprehensions and conventional loops."
   ]
  },
  {
   "cell_type": "code",
   "execution_count": 22,
   "metadata": {},
   "outputs": [
    {
     "name": "stdout",
     "output_type": "stream",
     "text": [
      "[(1, 2), (1, 4), (1, 6), (1, 8), (3, 2), (3, 4), (3, 6), (3, 8), (5, 2), (5, 4), (5, 6), (5, 8), (7, 2), (7, 4), (7, 6), (7, 8)]\n"
     ]
    },
    {
     "data": {
      "text/plain": [
       "[(1, 3), (1, 4), (2, 3), (2, 1), (2, 4), (3, 1), (3, 4)]"
      ]
     },
     "execution_count": 22,
     "metadata": {},
     "output_type": "execute_result"
    }
   ],
   "source": [
    "combs = []\n",
    "for x in [1,3,5,7]:\n",
    "    for y in [2,4,6,8]:\n",
    "        if x!=y:\n",
    "            combs.append((x,y))\n",
    "print(combs)\n",
    "\n",
    "# Notice how we paranthesize multiple expressions into tuples\n",
    "[(x, y) for x in [1,2,3] for y in [3,1,4] if x != y]"
   ]
  },
  {
   "cell_type": "markdown",
   "metadata": {},
   "source": [
    "#### We include our own example of list comprehensions below"
   ]
  },
  {
   "cell_type": "code",
   "execution_count": 49,
   "metadata": {},
   "outputs": [
    {
     "name": "stdout",
     "output_type": "stream",
     "text": [
      "[10, 3, 3, 56, 43, 0, 100, 1000]\n",
      "[56, -43, 100, -1000]\n",
      "['mcdonalds']\n",
      "[[-10, 100, -1000], [-7, 49, -343], [-4, 16, -64], [-1, 1, -1]]\n",
      "[(10, 100, 1000), (13, 169, 2197), (16, 256, 4096), (19, 361, 6859)]\n",
      "[1, 2, 3, 4, 5, 6, 7, 8, 9, 10, 11, 12]\n"
     ]
    },
    {
     "data": {
      "text/plain": [
       "['3.1', '3.14', '3.142', '3.1416', '3.14159']"
      ]
     },
     "execution_count": 49,
     "metadata": {},
     "output_type": "execute_result"
    }
   ],
   "source": [
    "myvec = [-10,3,-3,56,-43,0,100,-1000]\n",
    "print([abs(x) for x in myvec]) # we've vectorized abs()\n",
    "# print x if its absolute value is greater than 10\n",
    "print([x for x in myvec if abs(x) > 10])\n",
    "\n",
    "# we try this for a list of strings\n",
    "fastfood = ['mcdonalds      ',\n",
    "              'burger king      ', 'carls junior '\n",
    "              , '     in n out       ']\n",
    "# print if there is an 'm' in the string, and strip it of spaces\n",
    "print([x.strip() for x in fastfood if 'm' in x])\n",
    "\n",
    "# paranthesized tuples we create a list of powers, or lists\n",
    "print([[x,x**2,x**3] for x in range(-10,2,3)], end='\\n')\n",
    "print([(x,x**2,x**3) for x in range(10,20,3)], end='\\n')\n",
    "\n",
    "# flattening multidimensional lists\n",
    "x = [[[1,2],[3,4]],[[5,6],[7,8]],[[9,10],[11,12]]]\n",
    "print([b for y in x for a in y for b in a])\n",
    "\n",
    "# featured on PSF\n",
    "from math import pi\n",
    "[str(round(pi, i)) for i in range(1, 6)]"
   ]
  },
  {
   "cell_type": "markdown",
   "metadata": {},
   "source": [
    "#### We can even nest list comprehensions!\n",
    "We can perform nested comprehensions in a similar manner to how we flattened our multidimensional lists above. Take the example of performing the adjoint, or hermitian conjugate, of a real matrix:"
   ]
  },
  {
   "cell_type": "code",
   "execution_count": 66,
   "metadata": {},
   "outputs": [
    {
     "name": "stdout",
     "output_type": "stream",
     "text": [
      "[[9, 8, 7], [6, 5, 4], [3, 2, 1]]\n",
      "[[9, 6, 3], [8, 5, 2], [7, 4, 1]]\n"
     ]
    }
   ],
   "source": [
    "matrix = [[9,8,7],\n",
    "          [6,5,4],\n",
    "          [3,2,1]]\n",
    "print(matrix)\n",
    "print([[row[i] for row in matrix]for i in range(len(matrix))])"
   ]
  },
  {
   "cell_type": "markdown",
   "metadata": {},
   "source": [
    "We can alternatively write the iterative variation of this operation. This can be a good exercise for the reader... hahaha. Note that there are many different libraries and built-in functions that often provide what you may want to do. In our case, there is a `zip()` function for managing this."
   ]
  },
  {
   "cell_type": "markdown",
   "metadata": {},
   "source": [
    "#### Deleting at an index location\n",
    "We can remove an item from a list without using a value. This differs from the pop() method which returns a value. We can remove slices however we want, using conventional subsetting notation."
   ]
  },
  {
   "cell_type": "code",
   "execution_count": 68,
   "metadata": {},
   "outputs": [
    {
     "name": "stdout",
     "output_type": "stream",
     "text": [
      "[1, 66.25, 332, 333, 1234.5]\n",
      "[1, 66.25, 332, 1234.5]\n",
      "[]\n"
     ]
    }
   ],
   "source": [
    "a = [-1, 1, 66.25, 332, 333, 1234.5]\n",
    "del a[0]\n",
    "print(a)\n",
    "del a[3:2:-1]\n",
    "print(a)\n",
    "del a[:]\n",
    "print(a)\n",
    "del a\n",
    "# print(a) this will throw an error \n",
    "# because a becomes completely deleted"
   ]
  },
  {
   "cell_type": "markdown",
   "metadata": {},
   "source": [
    "## Tuples and Sequences\n",
    "There are two examples of sequence data types in python, aside from what we have with lists and strings, lists being \"unsequential,\" technically. \"A tuple consists of a number of values separated by commas.\" \n",
    "\n",
    "Tuples are\n",
    "1. nestable\n",
    "2. immutable"
   ]
  },
  {
   "cell_type": "code",
   "execution_count": 85,
   "metadata": {},
   "outputs": [
    {
     "name": "stdout",
     "output_type": "stream",
     "text": [
      "1\n",
      "(1, 234, 24234, 'hey there')\n",
      "((1, 234, 24234, 'hey there'), (1, 234, 24234, 'hey there'), (1, 234, 24234, 'hey there'))\n",
      "hey there\n",
      "([], [4, 0, 6])\n"
     ]
    }
   ],
   "source": [
    "mytup = 1,234,24234, 'hey there'\n",
    "print(mytup[0])\n",
    "print(mytup)\n",
    "mydup = mytup, mytup, mytup\n",
    "print(mydup)\n",
    "print(mydup[1][3])\n",
    "\n",
    "# you can't mutate tuples, but you can have them contain mutable objects\n",
    "# mydup[0]=1 # will not work\n",
    "mytuplist = ([1,2,3],[4,5,6]) \n",
    "# the below will work\n",
    "mytuplist[1][1] = 0\n",
    "del mytuplist[0][:]\n",
    "print(mytuplist)"
   ]
  },
  {
   "cell_type": "markdown",
   "metadata": {},
   "source": [
    "#### Tuples and parantheses\n",
    "We see that tuples are always enclosed in parantheses. This allows for tuple nesting. It is not possible to assign individual items of a tuple, but we've shown that we can create mutable objects inside our tuples. \n",
    "\n",
    "Tuples are often used for heterogeneous sequences, unlike lists which make sense of homogeneous sequences. We consider special tuples, singletons and empty tuples."
   ]
  },
  {
   "cell_type": "code",
   "execution_count": 86,
   "metadata": {},
   "outputs": [
    {
     "name": "stdout",
     "output_type": "stream",
     "text": [
      "0\n",
      "1\n",
      "('tinder bio',)\n"
     ]
    }
   ],
   "source": [
    "nothingness = ()\n",
    "single_4ever = 'tinder bio', \n",
    "print(len(nothingness))\n",
    "print(len(single_4ever))\n",
    "print(single_4ever)"
   ]
  },
  {
   "cell_type": "markdown",
   "metadata": {},
   "source": [
    "Another extremely useful feature of tuples is sqeuence unpacking"
   ]
  },
  {
   "cell_type": "code",
   "execution_count": 95,
   "metadata": {},
   "outputs": [
    {
     "name": "stdout",
     "output_type": "stream",
     "text": [
      "[] [4, 0, 6]\n"
     ]
    }
   ],
   "source": [
    "x, y = mytuplist\n",
    "print(x,y)"
   ]
  },
  {
   "cell_type": "markdown",
   "metadata": {},
   "source": [
    "## Sets \n",
    "For an unordered collection with no duplicate elements we use sets. Sets are implemented by the mathematical definition of a set. A set is an unordered collection of well-defined objects. You can create them using eitehr the `set()` function or curly brackets."
   ]
  },
  {
   "cell_type": "code",
   "execution_count": 106,
   "metadata": {},
   "outputs": [
    {
     "name": "stdout",
     "output_type": "stream",
     "text": [
      "{'halloween candy', 'junk food', \"mom's food\", 'food I traded with timmy'}\n",
      "False True\n",
      "{'T', 'N', 'U', ',', 'G', 'C', 'K', 'A', 'W', 'H', 'L', 'M', 'D', 'P'} {'I', ' ', 'F', 'O', 'Y', 'E', 'R'} {'T', 'A', 'W', 'E', 'N', 'H', 'U', ',', 'I', 'G', ' ', 'L', 'M', 'D', 'C', 'O', 'Y', 'K', 'F', 'R', 'P'} {'A', 'L', 'W', 'D', 'N', 'H', ','}\n"
     ]
    }
   ],
   "source": [
    "lunchbox = {\"mom's food\", \"junk food\", \"food I traded with timmy\", \"halloween candy\"}\n",
    "print(lunchbox)\n",
    "print(\"caviar\" in lunchbox, \"mom's food\" in lunchbox)\n",
    "\n",
    "# Set operations, XOR, intersection, union, set minus\n",
    "A = set(\"HELLO DEAR FRIEND, HOWDOYADO\")\n",
    "B = set(\"YOU FORGOT TO PICK ME UP\")\n",
    "print(A^B, A & B, A | B, A-B, end='\\n')"
   ]
  },
  {
   "cell_type": "markdown",
   "metadata": {},
   "source": [
    "Final feature of sets... are set comprehensions!"
   ]
  },
  {
   "cell_type": "code",
   "execution_count": 125,
   "metadata": {},
   "outputs": [
    {
     "name": "stdout",
     "output_type": "stream",
     "text": [
      "{'T', 'G', 'M', 'C', 'K', 'U', 'P'}\n"
     ]
    }
   ],
   "source": [
    "# this is equivalent to the complement of A\n",
    "print({x for x in B if x not in A})"
   ]
  },
  {
   "cell_type": "markdown",
   "metadata": {},
   "source": [
    "## Dictionaries \n",
    "Dictionaries in other languages are sometimes called associative arrays. Dictionaries are indexed by keys, not indices. You should think of keys having an associated value in the dictionary. \n",
    "\n",
    "Dictionaries are mainly used to store `key:value` pairs. You can also delete `key:value` pairs with the `del` statement. Trying to access nonexistent keys will produce an error. \n",
    "\n",
    "Calling `list(d)` will return a list of all the keys used in the dictionary. If you want the sorted list of keys, use `sorted(d)`. We demonstrate all of this with some code below. ( I copy and paste the following code from the original PSF tutorial because I've had a lot of experience with this. I suggest the reader to try their own code examples.)"
   ]
  },
  {
   "cell_type": "code",
   "execution_count": 129,
   "metadata": {},
   "outputs": [
    {
     "name": "stdout",
     "output_type": "stream",
     "text": [
      "{'jack': 4098, 'sape': 4139}\n",
      "{'jack': 4098, 'sape': 4139, 'guido': 4127}\n",
      "{'jack': 4098, 'guido': 4127}\n",
      "{'jack': 4098, 'guido': 4127, 'irv': 4127}\n",
      "['jack', 'guido', 'irv']\n",
      "['guido', 'irv', 'jack']\n"
     ]
    },
    {
     "data": {
      "text/plain": [
       "{'sape': 4139, 'guido': 4127, 'jack': 4098}"
      ]
     },
     "execution_count": 129,
     "metadata": {},
     "output_type": "execute_result"
    }
   ],
   "source": [
    "tel = {'jack': 4098, 'sape': 4139} # we construct a dictionary\n",
    "print(tel)\n",
    "tel['guido'] = 4127 # we append another key-value to our dictionary\n",
    "print(tel)\n",
    "del tel['sape'] # we delete a key-value pair from our dictionary\n",
    "print(tel)\n",
    "tel['irv'] = 4127 # We append another key-value pair to our dictionary\n",
    "print(tel)\n",
    "a = list(tel) # we list the keys\n",
    "print(a)\n",
    "b = sorted(tel) # we list the keys, sorted\n",
    "print(b)\n",
    "dict([('sape', 4139), ('guido', 4127), ('jack', 4098)]) # we construct a key using the dict() function\n",
    "dict(sape=4139, guido=4127, jack=4098) # we construct a dictionary using different syntax, less common."
   ]
  },
  {
   "cell_type": "markdown",
   "metadata": {},
   "source": [
    "## Dictionary Comprehensions\n",
    "We can finally create list, set, AND dictionary comphrehensions! The syntax conventions carry on in our initial expression as they do in lists, tuples and more. "
   ]
  },
  {
   "cell_type": "code",
   "execution_count": 127,
   "metadata": {},
   "outputs": [
    {
     "data": {
      "text/plain": [
       "{'2': 4, '4': 16, '6': 36}"
      ]
     },
     "execution_count": 127,
     "metadata": {},
     "output_type": "execute_result"
    }
   ],
   "source": [
    "{str(x): x**2 for x in (2, 4, 6)} # notice how we have the key:(and then the) value\n",
    "# We can almost construct R factors in this way; this is an unrelated statement, unless you know some R"
   ]
  },
  {
   "cell_type": "markdown",
   "metadata": {},
   "source": [
    "## List and tuple comparisons\n",
    "In Python, you can additionally compare sequential data as shown below, a direct example from the original tutorial. This comparison is done lexicographically, so both alphanumerically and orderings from unicode code. \n",
    "\n",
    "This can be useful for setting conditions between containers of data."
   ]
  },
  {
   "cell_type": "code",
   "execution_count": 64,
   "metadata": {
    "scrolled": true
   },
   "outputs": [
    {
     "name": "stdout",
     "output_type": "stream",
     "text": [
      "True\n",
      "True\n",
      "True\n",
      "True\n",
      "True\n",
      "True\n"
     ]
    }
   ],
   "source": [
    "print([1, 2, 3]              < [1, 2, 4])\n",
    "print('ABC' < 'C' < 'Pascal' < 'Python')\n",
    "print((1, 2, 3, 4)           < (1, 2, 4))\n",
    "print((1, 2)                 < (1, 2, -1))\n",
    "print((1, 2, 3)             == (1.0, 2.0, 3.0))\n",
    "print((1, 2, ('aa', 'ab'))   < (1, 2, ('abc', 'a'), 4))"
   ]
  },
  {
   "cell_type": "markdown",
   "metadata": {},
   "source": [
    "## Additional looping tricks for PROS\n",
    "We can do the following:\n",
    "1. loop through dictionaries and extract keys and corresponding values\n",
    "2. extract indices in a sequence\n",
    "3. loop over two or mroe sequence with zip()\n",
    "4. loop a sequence in reverse order\n",
    "5. we can sort a sequence and loop over it\n",
    "General thing to keep in mind. It is usually better to create a new list and modify it than looping and simultaneously modifying a list.\n",
    "(Note: code below is from PSF)"
   ]
  },
  {
   "cell_type": "code",
   "execution_count": 130,
   "metadata": {},
   "outputs": [
    {
     "name": "stdout",
     "output_type": "stream",
     "text": [
      "gallahad the pure\n",
      "robin the brave\n",
      "0 tic\n",
      "1 tac\n",
      "2 toe\n",
      "What is your name?  It is lancelot.\n",
      "What is your quest?  It is the holy grail.\n",
      "What is your favorite color?  It is blue.\n",
      "9\n",
      "7\n",
      "5\n",
      "3\n",
      "1\n",
      "apple\n",
      "banana\n",
      "orange\n",
      "pear\n"
     ]
    }
   ],
   "source": [
    "# 1\n",
    "knights = {'gallahad': 'the pure', 'robin': 'the brave'}\n",
    "for k, v in knights.items():\n",
    "    print(k, v)\n",
    "# 2\n",
    "for i, v in enumerate(['tic', 'tac', 'toe']):\n",
    "    print(i, v)\n",
    "\n",
    "# 3\n",
    "questions = ['name', 'quest', 'favorite color']\n",
    "answers = ['lancelot', 'the holy grail', 'blue']\n",
    "for q, a in zip(questions, answers):\n",
    "     print('What is your {0}?  It is {1}.'.format(q, a))\n",
    "\n",
    "# 4\n",
    "for i in reversed(range(1, 10, 2)):\n",
    "     print(i)\n",
    "\n",
    "# 5\n",
    "basket = ['apple', 'orange', 'apple', 'pear', 'orange', 'banana']\n",
    "for f in sorted(set(basket)):\n",
    "     print(f)"
   ]
  }
 ],
 "metadata": {
  "kernelspec": {
   "display_name": "Python 3",
   "language": "python",
   "name": "python3"
  },
  "language_info": {
   "codemirror_mode": {
    "name": "ipython",
    "version": 3
   },
   "file_extension": ".py",
   "mimetype": "text/x-python",
   "name": "python",
   "nbconvert_exporter": "python",
   "pygments_lexer": "ipython3",
   "version": "3.6.9"
  }
 },
 "nbformat": 4,
 "nbformat_minor": 2
}
