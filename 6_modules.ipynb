{
 "cells": [
  {
   "cell_type": "markdown",
   "metadata": {},
   "source": [
    "# MODULES AND MORE\n",
    "Programs can get pretty long. We want to be able to break them up and use them at different times and different places. Python supports this idea with modules which let us store function and variables in separate files which can be imported in a python session or a separate script file running python, where the script can be executed with the module, and its functions and variables."
   ]
  },
  {
   "cell_type": "code",
   "execution_count": 1,
   "metadata": {},
   "outputs": [
    {
     "name": "stdout",
     "output_type": "stream",
     "text": [
      "[0, 0, 0, 0, 0, 0, 0, 0, 0, 0, 0, 0, 0, 0, 0, 0, 0, 0, 0, 0] mymod\n",
      "\n",
      "[0, 0, 0, 0, 0, 0, 0, 0, 0, 0]\n"
     ]
    },
    {
     "data": {
      "text/plain": [
       "[0, 0, 0]"
      ]
     },
     "execution_count": 1,
     "metadata": {},
     "output_type": "execute_result"
    }
   ],
   "source": [
    "import mymod as yeet\n",
    "# __name__ represents the module's name\n",
    "print(yeet.billy_sequence(20), yeet.__name__, end='\\n\\n')\n",
    "\n",
    "# Alternatively, we can import as\n",
    "from mymod import billy_sequence # or we can expand all names with the wild card '*' But this is sloppy \n",
    "print(billy_sequence(10))\n",
    "\n",
    "# we can combine from and as altogether\n",
    "from mymod import billy_sequence as bs\n",
    "bs(3)"
   ]
  },
  {
   "cell_type": "markdown",
   "metadata": {},
   "source": [
    "### For efficiency reasons each module is imported only once per interpreter session\n",
    "We must restart the interpreter if we want to reload a module. You might want to do this if the module has been modified. The importlib module has a reload function that will reload a module that is available locally. "
   ]
  },
  {
   "cell_type": "code",
   "execution_count": 2,
   "metadata": {},
   "outputs": [
    {
     "data": {
      "text/plain": [
       "<module 'mymod' from '/home/richpaulyim/Programs/PSF-Tutorial/mymod.py'>"
      ]
     },
     "execution_count": 2,
     "metadata": {},
     "output_type": "execute_result"
    }
   ],
   "source": [
    "import mymod\n",
    "import importlib; importlib.reload(mymod)"
   ]
  },
  {
   "cell_type": "markdown",
   "metadata": {},
   "source": [
    "### Modules as scripts and not modules\n",
    "If we run a python module in an interepreter, the __name__ variable gets changed to \"__main__\", which means\n",
    "we can add an interactive, or separate code run within the module itself, a script within the module.\n",
    "\n",
    "Looking in the mymod.py file we have an if statement checking the __name__ global variable value. The code will print \"hello.\" However, if we just import the module in the interepreter, the __name__ variable with respect to the module will be the module name."
   ]
  },
  {
   "cell_type": "code",
   "execution_count": 3,
   "metadata": {},
   "outputs": [
    {
     "name": "stdout",
     "output_type": "stream",
     "text": [
      "This is being run in an interpreter\r\n"
     ]
    }
   ],
   "source": [
    "!python3 mymod.py"
   ]
  },
  {
   "cell_type": "markdown",
   "metadata": {},
   "source": [
    "### Module search path\n",
    "On symlink supported file systems, the directory containing a symlink to a related module in another directory will not search through the symlink's directory (this just makes sense). sys.path is a variable of the list of directories for a module. \n",
    "\n",
    "The `sys.path` variable is initialized from these locations:\n",
    "1. input script directory\n",
    "2. PYTHONPATH list of directories\n",
    "3. Installation dependent default\n",
    "### Compiled python\n",
    "Module loading is sped up with version storage in __pycache__"
   ]
  },
  {
   "cell_type": "markdown",
   "metadata": {},
   "source": [
    "# STANDARD MODULES\n",
    "Python has the standard library modules which provide access to operations not part of the core of the language. \n",
    "\n",
    "One particularly important module is the `sys` module.\n",
    "In this way, below, we can modify the search path of our interpreter"
   ]
  },
  {
   "cell_type": "code",
   "execution_count": 4,
   "metadata": {},
   "outputs": [],
   "source": [
    "import sys\n",
    "sys.ps1\n",
    "sys.ps2\n",
    "# the below line appends to the list of the path variable of our\n",
    "# sys instance; again this modifies the environment variable \n",
    "sys.path.append('') # PYTHONPATH"
   ]
  },
  {
   "cell_type": "markdown",
   "metadata": {},
   "source": [
    "# THE DIR() FUNCTION\n",
    "Built-in function used to find out which names a module defines. Returning a sorted lsit of strings. \n",
    "\n",
    "dir() lists names of variables, modules, functions, etc... But not builtins"
   ]
  },
  {
   "cell_type": "code",
   "execution_count": 7,
   "metadata": {},
   "outputs": [
    {
     "data": {
      "text/plain": [
       "['ArithmeticError',\n",
       " 'AssertionError',\n",
       " 'AttributeError',\n",
       " 'BaseException',\n",
       " 'BlockingIOError',\n",
       " 'BrokenPipeError',\n",
       " 'BufferError',\n",
       " 'BytesWarning',\n",
       " 'ChildProcessError',\n",
       " 'ConnectionAbortedError',\n",
       " 'ConnectionError',\n",
       " 'ConnectionRefusedError',\n",
       " 'ConnectionResetError',\n",
       " 'DeprecationWarning',\n",
       " 'EOFError',\n",
       " 'Ellipsis',\n",
       " 'EnvironmentError',\n",
       " 'Exception',\n",
       " 'False',\n",
       " 'FileExistsError',\n",
       " 'FileNotFoundError',\n",
       " 'FloatingPointError',\n",
       " 'FutureWarning',\n",
       " 'GeneratorExit',\n",
       " 'IOError',\n",
       " 'ImportError',\n",
       " 'ImportWarning',\n",
       " 'IndentationError',\n",
       " 'IndexError',\n",
       " 'InterruptedError',\n",
       " 'IsADirectoryError',\n",
       " 'KeyError',\n",
       " 'KeyboardInterrupt',\n",
       " 'LookupError',\n",
       " 'MemoryError',\n",
       " 'ModuleNotFoundError',\n",
       " 'NameError',\n",
       " 'None',\n",
       " 'NotADirectoryError',\n",
       " 'NotImplemented',\n",
       " 'NotImplementedError',\n",
       " 'OSError',\n",
       " 'OverflowError',\n",
       " 'PendingDeprecationWarning',\n",
       " 'PermissionError',\n",
       " 'ProcessLookupError',\n",
       " 'RecursionError',\n",
       " 'ReferenceError',\n",
       " 'ResourceWarning',\n",
       " 'RuntimeError',\n",
       " 'RuntimeWarning',\n",
       " 'StopAsyncIteration',\n",
       " 'StopIteration',\n",
       " 'SyntaxError',\n",
       " 'SyntaxWarning',\n",
       " 'SystemError',\n",
       " 'SystemExit',\n",
       " 'TabError',\n",
       " 'TimeoutError',\n",
       " 'True',\n",
       " 'TypeError',\n",
       " 'UnboundLocalError',\n",
       " 'UnicodeDecodeError',\n",
       " 'UnicodeEncodeError',\n",
       " 'UnicodeError',\n",
       " 'UnicodeTranslateError',\n",
       " 'UnicodeWarning',\n",
       " 'UserWarning',\n",
       " 'ValueError',\n",
       " 'Warning',\n",
       " 'ZeroDivisionError',\n",
       " '__IPYTHON__',\n",
       " '__build_class__',\n",
       " '__debug__',\n",
       " '__doc__',\n",
       " '__import__',\n",
       " '__loader__',\n",
       " '__name__',\n",
       " '__package__',\n",
       " '__spec__',\n",
       " 'abs',\n",
       " 'all',\n",
       " 'any',\n",
       " 'ascii',\n",
       " 'bin',\n",
       " 'bool',\n",
       " 'breakpoint',\n",
       " 'bytearray',\n",
       " 'bytes',\n",
       " 'callable',\n",
       " 'chr',\n",
       " 'classmethod',\n",
       " 'compile',\n",
       " 'complex',\n",
       " 'copyright',\n",
       " 'credits',\n",
       " 'delattr',\n",
       " 'dict',\n",
       " 'dir',\n",
       " 'display',\n",
       " 'divmod',\n",
       " 'enumerate',\n",
       " 'eval',\n",
       " 'exec',\n",
       " 'filter',\n",
       " 'float',\n",
       " 'format',\n",
       " 'frozenset',\n",
       " 'get_ipython',\n",
       " 'getattr',\n",
       " 'globals',\n",
       " 'hasattr',\n",
       " 'hash',\n",
       " 'help',\n",
       " 'hex',\n",
       " 'id',\n",
       " 'input',\n",
       " 'int',\n",
       " 'isinstance',\n",
       " 'issubclass',\n",
       " 'iter',\n",
       " 'len',\n",
       " 'license',\n",
       " 'list',\n",
       " 'locals',\n",
       " 'map',\n",
       " 'max',\n",
       " 'memoryview',\n",
       " 'min',\n",
       " 'next',\n",
       " 'object',\n",
       " 'oct',\n",
       " 'open',\n",
       " 'ord',\n",
       " 'pow',\n",
       " 'print',\n",
       " 'property',\n",
       " 'range',\n",
       " 'repr',\n",
       " 'reversed',\n",
       " 'round',\n",
       " 'set',\n",
       " 'setattr',\n",
       " 'slice',\n",
       " 'sorted',\n",
       " 'staticmethod',\n",
       " 'str',\n",
       " 'sum',\n",
       " 'super',\n",
       " 'tuple',\n",
       " 'type',\n",
       " 'vars',\n",
       " 'zip']"
      ]
     },
     "execution_count": 7,
     "metadata": {},
     "output_type": "execute_result"
    }
   ],
   "source": [
    "dir(yeet) # listing names defined by the module\n",
    "\n",
    "dir() # withouit specified arguments, we list all the variables defined\n",
    "\n",
    "# The below will import builtin functions and variables\n",
    "import builtins\n",
    "dir(builtins) "
   ]
  },
  {
   "cell_type": "markdown",
   "metadata": {},
   "source": [
    "# PACKAGES\n",
    "We can structure a module's namespace by using dotted module names. We've already done this previous by \"scoping\" the namespaces we are interested in using rather than loading and expanding a module in its entirety.\n",
    "\n",
    "We can use the same import syntax defined earlier to import specific submodules and packages.\n",
    "\n",
    "It was specified earlier that we may use the wildcard to import the entire library, but under the import statement in the presence of this character, the __init__.py file will have a variable containing package defintions for `__all__ = [a, b, c]`. The package manager has discretion over the init module's __all__ variable. (i.e. not all submodules may be loaded with *)\n",
    "\n",
    "It is bad practice to import * in any programming language, such as using an entire namespace in c++.\n",
    "\n",
    "### Intra-package references\n",
    "There are also intra-package references for our files if we use `.`, `..` and `..module`\n",
    "\n",
    "### __path__ package\n",
    "packages using one more special attribute. __path__ is the location of the package's location (path).\n",
    "\n",
    "That's all folks. "
   ]
  },
  {
   "cell_type": "markdown",
   "metadata": {},
   "source": []
  }
 ],
 "metadata": {
  "kernelspec": {
   "display_name": "Python 3",
   "language": "python",
   "name": "python3"
  },
  "language_info": {
   "codemirror_mode": {
    "name": "ipython",
    "version": 3
   },
   "file_extension": ".py",
   "mimetype": "text/x-python",
   "name": "python",
   "nbconvert_exporter": "python",
   "pygments_lexer": "ipython3",
   "version": "3.8.2"
  }
 },
 "nbformat": 4,
 "nbformat_minor": 2
}
